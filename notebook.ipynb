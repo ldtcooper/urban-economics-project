{
 "cells": [
  {
   "attachments": {},
   "cell_type": "markdown",
   "metadata": {},
   "source": [
    "# Final Project\n",
    "Logan Cooper"
   ]
  },
  {
   "cell_type": "code",
   "execution_count": null,
   "metadata": {},
   "outputs": [],
   "source": [
    "import pandas as pd\n",
    "import numpy as np\n",
    "import gc\n",
    "from tqdm.auto import tqdm\n",
    "import statsmodels.formula.api as smf\n",
    "from statsmodels.regression.linear_model import OLSResults\n",
    "from typing import Tuple\n",
    "import geopandas"
   ]
  },
  {
   "attachments": {},
   "cell_type": "markdown",
   "metadata": {},
   "source": [
    "## Data\n",
    "\n",
    "### Data Import\n",
    "\n",
    "#### NCDB Building Age Data (2000)"
   ]
  },
  {
   "cell_type": "code",
   "execution_count": null,
   "metadata": {},
   "outputs": [],
   "source": [
    "ncdb_dtypes = {\n",
    "    'tract_id': str,\n",
    "    'workers_taking_transit': int,\n",
    "    'prop_taking_transit': float,\n",
    "    'built_1999_2000': int,\n",
    "    'built_1995_1998': int,\n",
    "    'built_1990_1994': int,\n",
    "    'built_1980_1989': int,\n",
    "    'built_1970_79': int,\n",
    "    'built_1960_69': int,\n",
    "    'built_1950_59': int,\n",
    "    'built_1940_49': int,\n",
    "    'built_1939_earlier': int\n",
    "}\n",
    "ncdb_data = pd.read_csv('./data/NCDB_2000.csv', dtype=ncdb_dtypes)\n",
    "ncdb_data"
   ]
  },
  {
   "cell_type": "code",
   "execution_count": null,
   "metadata": {},
   "outputs": [],
   "source": [
    "ncdb_data[ncdb_data['tract_id'].str.startswith('6')]"
   ]
  },
  {
   "cell_type": "code",
   "execution_count": null,
   "metadata": {},
   "outputs": [],
   "source": [
    "ncdb_data['pub_trans_gt_10pct'] = 0\n",
    "ncdb_data['pub_trans_gt_10pct'][ncdb_data['prop_taking_transit'] >= 0.1] = 1\n",
    "ncdb_data"
   ]
  },
  {
   "cell_type": "code",
   "execution_count": null,
   "metadata": {},
   "outputs": [],
   "source": [
    "ncdb_data[ncdb_data['tract_id'].str.startswith('6')]"
   ]
  },
  {
   "cell_type": "code",
   "execution_count": null,
   "metadata": {},
   "outputs": [],
   "source": [
    "ncdb_data['pub_trans_gt_10pct'].value_counts()"
   ]
  },
  {
   "cell_type": "code",
   "execution_count": null,
   "metadata": {},
   "outputs": [],
   "source": [
    "ncdb_data"
   ]
  },
  {
   "attachments": {},
   "cell_type": "markdown",
   "metadata": {},
   "source": [
    "#### Tract Level Data (2019)"
   ]
  },
  {
   "cell_type": "code",
   "execution_count": null,
   "metadata": {},
   "outputs": [],
   "source": [
    "# import & rename cols\n",
    "tract_data_2019 = pd.read_json('./data/tract_data_2019.json', dtype=False)\n",
    "tract_data_2019.rename({\n",
    "    'B19019_001E': 'median_income',\n",
    "    'B01003_001E': 'population'\n",
    "}, inplace=True, axis=1)\n",
    "\n",
    "tract_data_2019['tract_id'] = tract_data_2019['state'] + tract_data_2019['county'] + tract_data_2019['tract']\n",
    "tract_data_2019"
   ]
  },
  {
   "cell_type": "code",
   "execution_count": null,
   "metadata": {},
   "outputs": [],
   "source": [
    "tract_data_2019['state'].value_counts().sort_index()"
   ]
  },
  {
   "attachments": {},
   "cell_type": "markdown",
   "metadata": {},
   "source": [
    "#### MSA-Level Income Data (2019)"
   ]
  },
  {
   "cell_type": "code",
   "execution_count": null,
   "metadata": {},
   "outputs": [],
   "source": [
    "msa_data = pd.read_json('./data/msa_data.json')\n",
    "msa_data.columns = ['name', 'median_income', 'msa_code']\n",
    "msa_data['msa_code'] = msa_data['msa_code'].astype(str)\n",
    "msa_data"
   ]
  },
  {
   "cell_type": "code",
   "execution_count": null,
   "metadata": {},
   "outputs": [],
   "source": [
    "msa_data = msa_data[msa_data['name'].str.contains('Metro Area')]\n",
    "msa_data"
   ]
  },
  {
   "cell_type": "code",
   "execution_count": null,
   "metadata": {},
   "outputs": [],
   "source": [
    "# derived from an earlier notebook version where these MSA IDs turned up missing\n",
    "# anything not in here is either in Puerto Rico or isn't an MSA in at least one period\n",
    "changed_msa_ids = ['19380','29140','42260','31100','22460','11340','11300','14060','42060','26180','23020','39140']\n",
    "changed_msa_names = ['Dayton-Kettering, OH Metro Area', \n",
    "                     'Lafayette-West Lafayette, IN Metro Area', \n",
    "                     'North Port-Sarasota-Bradenton, FL Metro Area',\n",
    "                     'Los Angeles-Long Beach-Anaheim, CA Metro Area',\n",
    "                     'Florence-Muscle Shoals, AL Metro Area',\n",
    "                     'Greenville-Anderson, SC Metro Area',\n",
    "                     'Indianapolis-Carmel-Anderson, IN Metro Area',\n",
    "                     'Bloomington, IL Metro Area',\n",
    "                     'Santa Maria-Santa Barbara, CA Metro Area',\n",
    "                     'Urban Honolulu, HI Metro Area',\n",
    "                     'Crestview-Fort Walton Beach-Destin, FL Metro Area',\n",
    "                     'Prescott Valley-Prescott, AZ Metro Area']\n",
    "\n",
    "msa_data.loc[msa_data['name'].isin(changed_msa_names), 'msa_code'] = changed_msa_ids\n",
    "msa_data[msa_data['msa_code'].isin(changed_msa_ids)]\n"
   ]
  },
  {
   "cell_type": "code",
   "execution_count": null,
   "metadata": {},
   "outputs": [],
   "source": [
    "msa_data.to_json('./data/msa_data.json')"
   ]
  },
  {
   "attachments": {},
   "cell_type": "markdown",
   "metadata": {},
   "source": [
    "#### MSA-Tract Crosswalk"
   ]
  },
  {
   "cell_type": "code",
   "execution_count": null,
   "metadata": {},
   "outputs": [],
   "source": [
    "msa_lookup = pd.read_excel('./data/omb-cbsa-csa.xls')\n",
    "msa_lookup = msa_lookup.iloc[2:].dropna(axis=1).iloc[:, [0, 2, -1]].reset_index(drop=True).dropna()\n",
    "msa_lookup.columns = ['CBSA Code', 'Metropolitan/Micropolitan Statistical Area', 'FIPS Code']\n",
    "\n",
    "for c in msa_lookup.columns:\n",
    "    msa_lookup[c] = msa_lookup[c].astype(str)\n",
    "\n",
    "msa_lookup"
   ]
  },
  {
   "cell_type": "code",
   "execution_count": null,
   "metadata": {},
   "outputs": [],
   "source": [
    "msa_lookup['FIPS State Code'] = msa_lookup['FIPS Code'].str[:2]\n",
    "msa_lookup['FIPS County Code'] = msa_lookup['FIPS Code'].str[2:]\n",
    "msa_lookup.drop('FIPS Code', axis=1, inplace=True)\n",
    "msa_lookup"
   ]
  },
  {
   "cell_type": "code",
   "execution_count": null,
   "metadata": {},
   "outputs": [],
   "source": [
    "og_msas = msa_lookup[msa_lookup['Metropolitan/Micropolitan Statistical Area'] == 'Metropolitan Statistical Area']['CBSA Code'].value_counts().index\n",
    "og_msas"
   ]
  },
  {
   "cell_type": "code",
   "execution_count": null,
   "metadata": {},
   "outputs": [],
   "source": [
    "# msa_lookup = pd.read_excel('./data/msa_codes.xls', \n",
    "#                            converters={'CBSA Code': str, \n",
    "#                                        'CBSA Title': str, \n",
    "#                                        'Metropolitan/Micropolitan Statistical Area': str, \n",
    "#                                        'FIPS State Code': str,\n",
    "#                                        'FIPS County Code': str}\n",
    "#                            ).drop(range(1916,1920))\n",
    "\n",
    "# msa_lookup"
   ]
  },
  {
   "attachments": {},
   "cell_type": "markdown",
   "metadata": {},
   "source": [
    "#### Conversion for 2000 => 2010"
   ]
  },
  {
   "cell_type": "code",
   "execution_count": null,
   "metadata": {},
   "outputs": [],
   "source": [
    "tract_conversion = pd.read_csv('./data/us2010trf.txt')\n",
    "tract_conversion"
   ]
  },
  {
   "cell_type": "code",
   "execution_count": null,
   "metadata": {},
   "outputs": [],
   "source": [
    "tract_conversion.columns"
   ]
  },
  {
   "cell_type": "code",
   "execution_count": null,
   "metadata": {},
   "outputs": [],
   "source": [
    "tract_conversion = tract_conversion[['GEOID00', 'GEOID10', 'AREALAND10']]\n",
    "tract_conversion['GEOID00'] = tract_conversion['GEOID00'].astype(str)\n",
    "tract_conversion['GEOID10'] = tract_conversion['GEOID10'].astype(str)\n",
    "tract_conversion"
   ]
  },
  {
   "cell_type": "code",
   "execution_count": null,
   "metadata": {},
   "outputs": [],
   "source": [
    "# AREALAND10 is in square meters, want it in square miles\n",
    "tract_conversion['AREALAND10'] = tract_conversion['AREALAND10'] * 3.861e-7\n",
    "tract_conversion = tract_conversion[tract_conversion['AREALAND10'] > 0]\n",
    "tract_conversion"
   ]
  },
  {
   "attachments": {},
   "cell_type": "markdown",
   "metadata": {},
   "source": [
    "#### Tract-School District Crosswalk"
   ]
  },
  {
   "cell_type": "code",
   "execution_count": null,
   "metadata": {},
   "outputs": [],
   "source": [
    "school_districts = pd.read_excel('./data/grf19_lea_tract.xlsx')\n",
    "# school_districts.drop(['NAME_LEA19', 'COUNT', 'LANDAREA', 'WATERAREA'], axis=1, inplace=True)\n",
    "school_districts['LEAID'] = school_districts['LEAID'].astype(str)\n",
    "school_districts['TRACT'] = school_districts['TRACT'].astype(str)\n",
    "school_districts"
   ]
  },
  {
   "attachments": {},
   "cell_type": "markdown",
   "metadata": {},
   "source": [
    "#### Wilson CBD"
   ]
  },
  {
   "cell_type": "code",
   "execution_count": null,
   "metadata": {},
   "outputs": [],
   "source": [
    "wilson_cbd = pd.read_csv('./data/wilson_cbd.csv', index_col=False, dtype={'msa_id': str, 'wilson_cbd': str})\n",
    "wilson_cbd"
   ]
  },
  {
   "attachments": {},
   "cell_type": "markdown",
   "metadata": {},
   "source": [
    "## Data Combination"
   ]
  },
  {
   "attachments": {},
   "cell_type": "markdown",
   "metadata": {},
   "source": [
    "#### Trim Tract Level Data to MSAs Only"
   ]
  },
  {
   "cell_type": "code",
   "execution_count": null,
   "metadata": {},
   "outputs": [],
   "source": [
    "only_metros = msa_lookup[msa_lookup['Metropolitan/Micropolitan Statistical Area'] == 'Metropolitan Statistical Area']\n",
    "msa_tracts = pd.merge(left=tract_data_2019, right=only_metros, left_on=['state', 'county'], right_on=['FIPS State Code', 'FIPS County Code'])\n",
    "msa_tracts"
   ]
  },
  {
   "cell_type": "code",
   "execution_count": null,
   "metadata": {},
   "outputs": [],
   "source": [
    "msa_tracts = msa_tracts[(msa_tracts['median_income'] >= 0) & (msa_tracts['population'] > 0)]\n",
    "msa_tracts"
   ]
  },
  {
   "cell_type": "code",
   "execution_count": null,
   "metadata": {},
   "outputs": [],
   "source": [
    "msa_tracts['state'].value_counts().sort_index()"
   ]
  },
  {
   "cell_type": "code",
   "execution_count": null,
   "metadata": {},
   "outputs": [],
   "source": [
    "msa_tracts['CBSA Code'].value_counts()"
   ]
  },
  {
   "cell_type": "code",
   "execution_count": null,
   "metadata": {},
   "outputs": [],
   "source": [
    "pr_msas = [el for el in og_msas if (el not in msa_tracts['CBSA Code'].value_counts().index)] #okay looks like these are all in PR\n",
    "pr_msas"
   ]
  },
  {
   "cell_type": "code",
   "execution_count": null,
   "metadata": {},
   "outputs": [],
   "source": [
    "msa_tracts.columns"
   ]
  },
  {
   "cell_type": "code",
   "execution_count": null,
   "metadata": {},
   "outputs": [],
   "source": [
    "msa_tracts.drop(['Metropolitan/Micropolitan Statistical Area', 'FIPS State Code', 'FIPS County Code'], axis=1, inplace=True)\n",
    "msa_tracts"
   ]
  },
  {
   "cell_type": "code",
   "execution_count": null,
   "metadata": {},
   "outputs": [],
   "source": [
    "del only_metros\n",
    "gc.collect()"
   ]
  },
  {
   "attachments": {},
   "cell_type": "markdown",
   "metadata": {},
   "source": [
    "#### Merge MSA-Level Data"
   ]
  },
  {
   "cell_type": "code",
   "execution_count": null,
   "metadata": {},
   "outputs": [],
   "source": [
    "msa_tracts = pd.merge(left=msa_tracts, right=msa_data, left_on='CBSA Code', right_on='msa_code', suffixes=('_tract', '_msa'))\n",
    "msa_tracts['income'] = msa_tracts['median_income_tract'] / msa_tracts['median_income_msa']\n",
    "msa_tracts.drop(['CBSA Code', 'median_income_tract', 'median_income_msa'], axis=1, inplace=True)\n",
    "msa_tracts"
   ]
  },
  {
   "cell_type": "code",
   "execution_count": null,
   "metadata": {},
   "outputs": [],
   "source": [
    "[el for el in og_msas if (el not in msa_tracts['msa_code'].value_counts().index) and (el not in pr_msas)]"
   ]
  },
  {
   "cell_type": "code",
   "execution_count": null,
   "metadata": {},
   "outputs": [],
   "source": [
    "msa_tracts['state'].value_counts().sort_index()"
   ]
  },
  {
   "cell_type": "code",
   "execution_count": null,
   "metadata": {},
   "outputs": [],
   "source": [
    "# msa_tracts[msa_tracts['tract_id'].str.startswith('0')]['tract_id'] = msa_tracts[msa_tracts['tract_id'].str.startswith('0')]['tract_id'].str[1:]"
   ]
  },
  {
   "cell_type": "code",
   "execution_count": null,
   "metadata": {},
   "outputs": [],
   "source": [
    "del msa_data\n",
    "gc.collect()"
   ]
  },
  {
   "attachments": {},
   "cell_type": "markdown",
   "metadata": {},
   "source": [
    "#### Convert 2000-Tracts and Merge"
   ]
  },
  {
   "cell_type": "code",
   "execution_count": null,
   "metadata": {},
   "outputs": [],
   "source": [
    "ages_2019 = pd.merge(left=ncdb_data, right=tract_conversion, left_on='tract_id', right_on='GEOID00')\n",
    "ages_2019.drop(['tract_id', 'workers_taking_transit', 'prop_taking_transit'], axis=1, inplace=True)\n",
    "ages_2019.rename({'AREALAND10': 'area', 'GEOID10': 'tract_id_2010', 'GEOID00': 'tract_id_2000'}, inplace=True, axis=1)\n",
    "\n",
    "ages_2019"
   ]
  },
  {
   "cell_type": "code",
   "execution_count": null,
   "metadata": {},
   "outputs": [],
   "source": [
    "non_aggregated_tract_data = ages_2019[['tract_id_2010', 'area']].drop_duplicates()\n",
    "non_aggregated_tract_data"
   ]
  },
  {
   "cell_type": "code",
   "execution_count": null,
   "metadata": {},
   "outputs": [],
   "source": [
    "summed_ages = ages_2019.groupby('tract_id_2010').sum(numeric_only=True).drop(['area'], axis=1).reset_index()\n",
    "summed_ages"
   ]
  },
  {
   "cell_type": "code",
   "execution_count": null,
   "metadata": {},
   "outputs": [],
   "source": [
    "summed_ages['pub_trans_gt_10pct'] = (summed_ages['pub_trans_gt_10pct'] >= 1).astype(int)\n",
    "summed_ages"
   ]
  },
  {
   "cell_type": "code",
   "execution_count": null,
   "metadata": {},
   "outputs": [],
   "source": [
    "summed_ages.describe()"
   ]
  },
  {
   "cell_type": "code",
   "execution_count": null,
   "metadata": {},
   "outputs": [],
   "source": [
    "msa_tracts['tract_id'] = msa_tracts['tract_id'].str.removeprefix('0')\n",
    "msa_tracts['tract_id']"
   ]
  },
  {
   "cell_type": "code",
   "execution_count": null,
   "metadata": {},
   "outputs": [],
   "source": [
    "ages_2019 = pd.merge(left=summed_ages, right=non_aggregated_tract_data)\n",
    "ages_2019"
   ]
  },
  {
   "cell_type": "code",
   "execution_count": null,
   "metadata": {},
   "outputs": [],
   "source": [
    "ages_2019.describe()"
   ]
  },
  {
   "cell_type": "code",
   "execution_count": null,
   "metadata": {},
   "outputs": [],
   "source": [
    "msa_tracts = pd.merge(left=msa_tracts, right=ages_2019, left_on='tract_id', right_on='tract_id_2010')\n",
    "msa_tracts.drop(['tract_id'], axis=1, inplace=True)\n",
    "\n",
    "msa_tracts = msa_tracts[(msa_tracts['population'] >= 1) & (msa_tracts['income'] > 0) & (msa_tracts['area'] > 0)] # drop weird tracts\n",
    "\n",
    "msa_tracts['pop_density'] = msa_tracts['population'] / msa_tracts['area']\n",
    "msa_tracts"
   ]
  },
  {
   "cell_type": "code",
   "execution_count": null,
   "metadata": {},
   "outputs": [],
   "source": [
    "msa_tracts['state'].value_counts().sort_index()"
   ]
  },
  {
   "cell_type": "code",
   "execution_count": null,
   "metadata": {},
   "outputs": [],
   "source": [
    "del ages_2019\n",
    "gc.collect()"
   ]
  },
  {
   "attachments": {},
   "cell_type": "markdown",
   "metadata": {},
   "source": [
    "#### Add School District"
   ]
  },
  {
   "cell_type": "code",
   "execution_count": null,
   "metadata": {},
   "outputs": [],
   "source": [
    "msa_tracts = pd.merge(left=msa_tracts, right=school_districts, left_on='tract_id_2010', right_on='TRACT')\n",
    "msa_tracts.drop(['NAME_LEA19', 'TRACT', 'COUNT', 'LANDAREA', 'WATERAREA'], axis=1, inplace=True)\n",
    "msa_tracts"
   ]
  },
  {
   "cell_type": "code",
   "execution_count": null,
   "metadata": {},
   "outputs": [],
   "source": [
    "del school_districts\n",
    "gc.collect()"
   ]
  },
  {
   "attachments": {},
   "cell_type": "markdown",
   "metadata": {},
   "source": [
    "### Add Wilson CBD"
   ]
  },
  {
   "cell_type": "code",
   "execution_count": null,
   "metadata": {},
   "outputs": [],
   "source": [
    "wilson_cbd"
   ]
  },
  {
   "cell_type": "code",
   "execution_count": null,
   "metadata": {},
   "outputs": [],
   "source": [
    "msa_tracts = pd.merge(left=msa_tracts, right=wilson_cbd, left_on='msa_code', right_on='msa_id')\n",
    "msa_tracts.drop('msa_id', axis=1, inplace=True)\n",
    "msa_tracts['wilson_cbd'] = msa_tracts['wilson_cbd'].str.removeprefix('0')\n",
    "msa_tracts"
   ]
  },
  {
   "cell_type": "code",
   "execution_count": null,
   "metadata": {},
   "outputs": [],
   "source": [
    "msa_tracts"
   ]
  },
  {
   "cell_type": "code",
   "execution_count": null,
   "metadata": {},
   "outputs": [],
   "source": [
    "msa_tracts.to_csv('./data/msa_tracts.csv', index=False)"
   ]
  },
  {
   "attachments": {},
   "cell_type": "markdown",
   "metadata": {},
   "source": [
    "### Calculating Distances"
   ]
  },
  {
   "attachments": {},
   "cell_type": "markdown",
   "metadata": {},
   "source": [
    "#### Finding Central Business District"
   ]
  },
  {
   "cell_type": "code",
   "execution_count": null,
   "metadata": {},
   "outputs": [],
   "source": [
    "msa_tracts = pd.read_csv('./data/msa_tracts.csv', index_col=False)\n",
    "msa_tracts.rename({'msa_code_tract': 'msa_code'}, axis=1, inplace=True)\n",
    "msa_tracts.drop(['area', 'population'], inplace=True, axis=1)\n",
    "msa_tracts['wilson_cbd'] = msa_tracts['wilson_cbd'].astype(str)\n",
    "msa_tracts"
   ]
  },
  {
   "cell_type": "code",
   "execution_count": null,
   "metadata": {},
   "outputs": [],
   "source": [
    "msa_tracts['msa_code'].value_counts()"
   ]
  },
  {
   "cell_type": "code",
   "execution_count": null,
   "metadata": {},
   "outputs": [],
   "source": [
    "msa_tracts['state'].value_counts().sort_index()"
   ]
  },
  {
   "cell_type": "code",
   "execution_count": null,
   "metadata": {},
   "outputs": [],
   "source": [
    "cbd_candidates = msa_tracts[['msa_code', 'tract_id_2010', 'pop_density']]\n",
    "cbds = cbd_candidates.groupby('msa_code').max()\n",
    "cbds.drop('pop_density', axis=1, inplace=True)\n",
    "cbds.reset_index(inplace=True)\n",
    "cbds"
   ]
  },
  {
   "cell_type": "code",
   "execution_count": null,
   "metadata": {},
   "outputs": [],
   "source": [
    "msa_tracts = pd.merge(left=msa_tracts, right=cbds, left_on='msa_code', right_on='msa_code', suffixes=('', 'cbd'))\n",
    "msa_tracts.rename({'tract_id_2010cbd': 'br_cbd'}, inplace=True, axis=1)\n",
    "msa_tracts['br_cbd'] = msa_tracts['br_cbd'].astype(str)\n",
    "msa_tracts['tract_id_2010'] = msa_tracts['tract_id_2010'].astype(str)\n",
    "msa_tracts"
   ]
  },
  {
   "cell_type": "code",
   "execution_count": null,
   "metadata": {},
   "outputs": [],
   "source": [
    "msa_tracts['br_cbd'].str.len().value_counts()"
   ]
  },
  {
   "cell_type": "code",
   "execution_count": null,
   "metadata": {},
   "outputs": [],
   "source": [
    "msa_tracts['tract_id_2010'].str.len().value_counts()"
   ]
  },
  {
   "attachments": {},
   "cell_type": "markdown",
   "metadata": {},
   "source": [
    "#### Calculating Distances"
   ]
  },
  {
   "cell_type": "code",
   "execution_count": null,
   "metadata": {},
   "outputs": [],
   "source": [
    "def regularize_house_ages(df: pd.DataFrame) -> pd.DataFrame:\n",
    "    age_cats = ['built_1999_2000',\n",
    "       'built_1995_1998', 'built_1990_1994', 'built_1980_1989',\n",
    "       'built_1970_1979', 'built_1960_1969', 'built_1950_1959',\n",
    "       'built_1940_1949', 'built_1939_earlier']\n",
    "\n",
    "    build_totals = df[age_cats].sum(axis=1)\n",
    "\n",
    "    df[age_cats] = df[age_cats].div(build_totals, axis=0)\n",
    "    return df\n",
    "    \n",
    "\n",
    "def get_distances_for_cbd(df: pd.DataFrame, cbd_measure: str, chunksize: int) -> pd.DataFrame:\n",
    "    print(f'Starting for {cbd_measure}...')\n",
    "    msa_tracts_with_dist = None\n",
    "    tract_distances = pd.read_csv('./data/sf12010tractdistance50miles.csv', dtype={'county1': str,'tract1': str, 'county2': str,'tract2': str}, chunksize=chunksize)\n",
    "    for chunk in tqdm(tract_distances):\n",
    "        chunk['tid1'] = (chunk['county1'] + chunk['tract1']).str.removeprefix('0')\n",
    "        chunk.drop(['county1', 'tract1'], axis=1, inplace=True)\n",
    "        chunk['tid2'] = (chunk['county2'] + chunk['tract2']).str.removeprefix('0')\n",
    "        chunk.drop(['county2', 'tract2'], axis=1, inplace=True)\n",
    "        chunk.rename({'mi_to_tract': 'distance'}, axis=1, inplace=True)\n",
    "\n",
    "        m = pd.merge(left=df, right=chunk, left_on=[cbd_measure, 'tract_id_2010'], right_on=['tid1', 'tid2'])\n",
    "        if msa_tracts_with_dist is None:\n",
    "            msa_tracts_with_dist = m\n",
    "        else:\n",
    "            msa_tracts_with_dist = pd.concat((m, msa_tracts_with_dist))\n",
    "\n",
    "    msa_tracts_with_dist.drop(['tid1', 'tid2'], axis=1, inplace=True)\n",
    "    msa_tracts_with_dist = msa_tracts_with_dist[msa_tracts_with_dist['distance'] <= 40]\n",
    "\n",
    "    cbd_tracts = df[df['tract_id_2010'] == df[cbd_measure]]\n",
    "    cbd_tracts['distance'] = 0\n",
    "    msa_tracts_with_dist = pd.concat((msa_tracts_with_dist, cbd_tracts))\n",
    "    msa_tracts_with_dist.drop(['state', 'county', 'tract'], axis=1, inplace=True)\n",
    "\n",
    "    return regularize_house_ages(msa_tracts_with_dist)"
   ]
  },
  {
   "cell_type": "code",
   "execution_count": null,
   "metadata": {},
   "outputs": [],
   "source": [
    "msa_tracts_with_dist_br = get_distances_for_cbd(msa_tracts, 'br_cbd', chunksize=200000)\n",
    "msa_tracts_with_dist_br"
   ]
  },
  {
   "cell_type": "code",
   "execution_count": null,
   "metadata": {},
   "outputs": [],
   "source": [
    "msa_tracts_with_dist_br['msa_code'].value_counts()"
   ]
  },
  {
   "cell_type": "code",
   "execution_count": null,
   "metadata": {},
   "outputs": [],
   "source": [
    "msa_tracts_with_dist_br.to_csv('./data/msa_tracts_dist_br.csv', index=False)"
   ]
  },
  {
   "cell_type": "code",
   "execution_count": null,
   "metadata": {},
   "outputs": [],
   "source": [
    "msa_tracts_with_dist_wilson = get_distances_for_cbd(msa_tracts, 'wilson_cbd', chunksize=200000)\n",
    "msa_tracts_with_dist_wilson"
   ]
  },
  {
   "cell_type": "code",
   "execution_count": null,
   "metadata": {},
   "outputs": [],
   "source": [
    "msa_tracts_with_dist_wilson['msa_code'].value_counts()"
   ]
  },
  {
   "cell_type": "code",
   "execution_count": null,
   "metadata": {},
   "outputs": [],
   "source": [
    "msa_tracts_with_dist_wilson.to_csv('./data/msa_tracts_dist_wilson.csv', index=False)"
   ]
  },
  {
   "attachments": {},
   "cell_type": "markdown",
   "metadata": {},
   "source": [
    "## Modelling\n",
    "\n",
    "The smallest of these models runs OLS with ~73,000 data points and 300 fixed effects. Therefore, I wasn't able to run most of them locally. Instead, I ran the models on the Duke Economics Computing Cluster and downloaded the saved models. The process for this can be seen in `reg.py`. Note that the results below omit the several thousand fixed effects."
   ]
  },
  {
   "cell_type": "code",
   "execution_count": null,
   "metadata": {},
   "outputs": [],
   "source": [
    "br = pd.read_csv('./data/msa_tracts_dist_br.csv', index_col=False, dtype={'msa_code': str, 'LEAID': str, 'pub_trans_gt_10pct': int}).dropna()\n",
    "wilson = pd.read_csv('./data/msa_tracts_dist_wilson.csv', index_col=False, dtype={'msa_code': str, 'LEAID': str, 'pub_trans_gt_10pct': int}).dropna()"
   ]
  },
  {
   "cell_type": "code",
   "execution_count": null,
   "metadata": {},
   "outputs": [],
   "source": [
    "br"
   ]
  },
  {
   "cell_type": "code",
   "execution_count": null,
   "metadata": {},
   "outputs": [],
   "source": [
    "wilson"
   ]
  },
  {
   "cell_type": "code",
   "execution_count": null,
   "metadata": {},
   "outputs": [],
   "source": [
    "br.describe()"
   ]
  },
  {
   "cell_type": "code",
   "execution_count": null,
   "metadata": {},
   "outputs": [],
   "source": [
    "wilson.describe()"
   ]
  },
  {
   "cell_type": "code",
   "execution_count": null,
   "metadata": {},
   "outputs": [],
   "source": [
    "import re\n",
    "fixed_effects = re.compile(r'C\\([A-Za-z_]+\\).+\\n')\n",
    "\n",
    "def print_model_output(model_type: str, model_num: int, model: str) -> str:\n",
    "    with open(f'./models/{model}/model-{model_type}-{model_num}-summary.txt', 'r') as f:\n",
    "        print(fixed_effects.sub('', f.read()))"
   ]
  },
  {
   "attachments": {},
   "cell_type": "markdown",
   "metadata": {},
   "source": [
    "### Brueckner-Rosenthal-Distance Results"
   ]
  },
  {
   "cell_type": "code",
   "execution_count": null,
   "metadata": {},
   "outputs": [],
   "source": [
    "print_model_output('br', 1, 'WLS')"
   ]
  },
  {
   "cell_type": "code",
   "execution_count": null,
   "metadata": {},
   "outputs": [],
   "source": [
    "print_model_output('br', 2, 'WLS')"
   ]
  },
  {
   "cell_type": "code",
   "execution_count": null,
   "metadata": {},
   "outputs": [],
   "source": [
    "print_model_output('br', 3, 'WLS')"
   ]
  },
  {
   "cell_type": "code",
   "execution_count": null,
   "metadata": {},
   "outputs": [],
   "source": [
    "print_model_output('br', 4, 'WLS')"
   ]
  },
  {
   "cell_type": "code",
   "execution_count": null,
   "metadata": {},
   "outputs": [],
   "source": [
    "print_model_output('br', 5, 'WLS')"
   ]
  },
  {
   "attachments": {},
   "cell_type": "markdown",
   "metadata": {},
   "source": [
    "### Wilson-Distance Results"
   ]
  },
  {
   "cell_type": "code",
   "execution_count": null,
   "metadata": {},
   "outputs": [],
   "source": [
    "print_model_output('wilson', 1, 'WLS')"
   ]
  },
  {
   "cell_type": "code",
   "execution_count": null,
   "metadata": {},
   "outputs": [],
   "source": [
    "print_model_output('wilson', 2, 'WLS')"
   ]
  },
  {
   "cell_type": "code",
   "execution_count": null,
   "metadata": {},
   "outputs": [],
   "source": [
    "print_model_output('wilson', 3, 'WLS')"
   ]
  },
  {
   "cell_type": "code",
   "execution_count": null,
   "metadata": {},
   "outputs": [],
   "source": [
    "print_model_output('wilson', 4, 'WLS')"
   ]
  },
  {
   "cell_type": "code",
   "execution_count": null,
   "metadata": {},
   "outputs": [],
   "source": [
    "print_model_output('wilson', 5, 'WLS')"
   ]
  },
  {
   "attachments": {},
   "cell_type": "markdown",
   "metadata": {},
   "source": [
    "## Graphing"
   ]
  },
  {
   "cell_type": "code",
   "execution_count": null,
   "metadata": {},
   "outputs": [],
   "source": [
    "from matplotlib import pyplot as plt\n",
    "\n",
    "br.plot(kind='scatter', x='distance', y='income', xlabel='BR-Distance', ylabel='Tract Income', title='Brueckner-Rosenthal')\n",
    "wilson.plot(kind='scatter', x='distance', y='income', xlabel='Wilson-Distance', ylabel='Tract Income', title='Wilson')"
   ]
  },
  {
   "cell_type": "code",
   "execution_count": null,
   "metadata": {},
   "outputs": [],
   "source": [
    "plt.hexbin(x=br['distance'], y=br['income'], gridsize=(40, 40))\n",
    "plt.xlabel('BR-Distance')\n",
    "plt.ylabel('Tract Income')\n",
    "plt.title('Brueckner-Rosenthal')"
   ]
  },
  {
   "cell_type": "code",
   "execution_count": null,
   "metadata": {},
   "outputs": [],
   "source": [
    "plt.hexbin(x=wilson['distance'], y=wilson['income'], gridsize=(40, 40))\n",
    "plt.xlabel('Wilson-Distance')\n",
    "plt.ylabel('Tract Income')\n",
    "plt.title('Wilson')"
   ]
  },
  {
   "cell_type": "code",
   "execution_count": null,
   "metadata": {},
   "outputs": [],
   "source": [
    "def add_tract_counts(df: pd.DataFrame) -> pd.DataFrame:\n",
    "    tract_counts =df.groupby('msa_code').count()['income']\n",
    "    tract_counts = tract_counts.reset_index().rename({'income': 'tract_counts'}, axis=1)\n",
    "    return pd.merge(right=df, left=tract_counts, left_on='msa_code', right_on='msa_code')\n",
    "\n",
    "def discretize_distances(df: pd.DataFrame) -> pd.DataFrame:\n",
    "    df['dist_bin'] = df['distance'].round()\n",
    "    return df\n",
    "\n",
    "def split_df_by_tract_counts(df: pd.DataFrame) -> Tuple[pd.DataFrame]:\n",
    "    under_100 = df[df['tract_counts'] < 100]\n",
    "    btw_100_500 = df[(df['tract_counts'] >= 100) & (df['tract_counts'] < 500)]\n",
    "    btw_500_1000 = df[(df['tract_counts'] >= 500) & (df['tract_counts'] < 1000)]\n",
    "    larger_1000 = df[df['tract_counts'] >= 1000]\n",
    "\n",
    "    return (under_100, btw_100_500, btw_500_1000, larger_1000)\n",
    "\n",
    "def plot_relative_income(df: pd.DataFrame, title: str, dist: str) -> None:\n",
    "    df_dist_inc = df.groupby('dist_bin').mean()['income']\n",
    "    plt.plot((df_dist_inc - df_dist_inc[0]) / df_dist_inc[0])\n",
    "    plt.xlabel(f'{dist}-Distance from CBD (mi)')\n",
    "    plt.ylabel('Median Income Compared to Mile Zero')\n",
    "    plt.title(title)\n",
    "\n",
    "def plot_housing_dist(df: pd.DataFrame) -> None:\n",
    "    df.groupby('dist_bin').mean()[\n",
    "    ['built_1999_2000', \n",
    "        'built_1995_1998', \n",
    "        'built_1990_1994', \n",
    "        'built_1980_1989', \n",
    "        'built_1970_1979', \n",
    "        'built_1960_1969', \n",
    "        'built_1950_1959', \n",
    "        'built_1940_1949', \n",
    "        'built_1939_earlier']\n",
    "    ].plot(xlabel='Distance from CBD (mi)', ylabel='Mean Share of Housing Age')\n",
    "\n",
    "def process_dataframe(df: pd.DataFrame) -> Tuple[pd.DataFrame]:\n",
    "    return split_df_by_tract_counts(discretize_distances(add_tract_counts(df)))"
   ]
  },
  {
   "cell_type": "code",
   "execution_count": null,
   "metadata": {},
   "outputs": [],
   "source": [
    "under_100_br, btw_100_500_br, btw_500_1000_br, larger_1000_br = process_dataframe(br)\n",
    "under_100_wilson, btw_100_500_wilson, btw_500_1000_wilson, larger_1000_wilson = process_dataframe(wilson)"
   ]
  },
  {
   "cell_type": "code",
   "execution_count": null,
   "metadata": {},
   "outputs": [],
   "source": [
    "plot_relative_income(under_100_br, 'Under 100 Tracts', 'BR')"
   ]
  },
  {
   "cell_type": "code",
   "execution_count": null,
   "metadata": {},
   "outputs": [],
   "source": [
    "plot_relative_income(btw_100_500_br, '100-499 Tracts', 'BR')"
   ]
  },
  {
   "cell_type": "code",
   "execution_count": null,
   "metadata": {},
   "outputs": [],
   "source": [
    "plot_relative_income(btw_500_1000_br, '500-999 Tracts', 'BR')"
   ]
  },
  {
   "cell_type": "code",
   "execution_count": null,
   "metadata": {},
   "outputs": [],
   "source": [
    "plot_relative_income(larger_1000_br, '1000 or More Tracts', 'BR')"
   ]
  },
  {
   "cell_type": "code",
   "execution_count": null,
   "metadata": {},
   "outputs": [],
   "source": [
    "plot_relative_income(under_100_wilson, 'Under 100 Tracts', 'Wilson')"
   ]
  },
  {
   "cell_type": "code",
   "execution_count": null,
   "metadata": {},
   "outputs": [],
   "source": [
    "plot_relative_income(btw_100_500_wilson, '100-499 Tracts', 'Wilson')"
   ]
  },
  {
   "cell_type": "code",
   "execution_count": null,
   "metadata": {},
   "outputs": [],
   "source": [
    "plot_relative_income(btw_500_1000_wilson, '500-999 Tracts', 'Wilson')"
   ]
  },
  {
   "cell_type": "code",
   "execution_count": null,
   "metadata": {},
   "outputs": [],
   "source": [
    "plot_relative_income(larger_1000_wilson, '1000 or More Tracts', 'Wilson')"
   ]
  },
  {
   "cell_type": "code",
   "execution_count": null,
   "metadata": {},
   "outputs": [],
   "source": [
    "plot_relative_income(discretize_distances(wilson), 'All Cities', 'Wilson')"
   ]
  },
  {
   "attachments": {},
   "cell_type": "markdown",
   "metadata": {},
   "source": [
    "## Mapping"
   ]
  },
  {
   "cell_type": "code",
   "execution_count": null,
   "metadata": {},
   "outputs": [],
   "source": [
    "def geofy_data(df: pd.DataFrame) -> geopandas.GeoDataFrame:\n",
    "    ca_geo = geopandas.read_file('./data/CA_shapefile/tl_2010_06_tract00.shp')\n",
    "    ca_geo = ca_geo[['CTIDFP00', 'geometry']]\n",
    "\n",
    "    ca_geo['CTIDFP00'] = ca_geo['CTIDFP00'].astype(str).str.removeprefix('0')\n",
    "    df['tract_id_2010'] = df['tract_id_2010'].astype(str)\n",
    "\n",
    "    ca_geo = pd.merge(left=ca_geo, right=df, left_on='CTIDFP00', right_on='tract_id_2010')\n",
    "    return ca_geo.dropna()"
   ]
  }
 ],
 "metadata": {
  "kernelspec": {
   "display_name": "econ554",
   "language": "python",
   "name": "python3"
  },
  "language_info": {
   "codemirror_mode": {
    "name": "ipython",
    "version": 3
   },
   "file_extension": ".py",
   "mimetype": "text/x-python",
   "name": "python",
   "nbconvert_exporter": "python",
   "pygments_lexer": "ipython3",
   "version": "3.11.2"
  },
  "orig_nbformat": 4
 },
 "nbformat": 4,
 "nbformat_minor": 2
}
