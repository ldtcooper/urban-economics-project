{
 "cells": [
  {
   "attachments": {},
   "cell_type": "markdown",
   "metadata": {},
   "source": [
    "# Final Project\n",
    "Logan Cooper"
   ]
  },
  {
   "cell_type": "code",
   "execution_count": 1,
   "metadata": {},
   "outputs": [],
   "source": [
    "import pandas as pd\n",
    "import numpy as np"
   ]
  },
  {
   "attachments": {},
   "cell_type": "markdown",
   "metadata": {},
   "source": [
    "## Data\n",
    "\n",
    "### Data Import\n",
    "\n",
    "#### NCDB Building Age Data (2000)"
   ]
  },
  {
   "cell_type": "code",
   "execution_count": null,
   "metadata": {},
   "outputs": [],
   "source": [
    "ncdb_dtypes = {\n",
    "    'tract_id': str,\n",
    "    'built_1999_2000': int,\n",
    "    'built_1995_1998': int,\n",
    "    'built_1990_1994': int,\n",
    "    'built_1980_1989': int,\n",
    "    'built_1970_79': int,\n",
    "    'built_1960_69': int,\n",
    "    'built_1950_59': int,\n",
    "    'built_1940_49': int,\n",
    "    'built_1939_earlier': int\n",
    "}\n",
    "ncdb_data = pd.read_csv('./data/NCDB_2000.csv', dtype=ncdb_dtypes)\n",
    "ncdb_data"
   ]
  },
  {
   "attachments": {},
   "cell_type": "markdown",
   "metadata": {},
   "source": [
    "#### Tract Level Data (2019)"
   ]
  },
  {
   "cell_type": "code",
   "execution_count": null,
   "metadata": {},
   "outputs": [],
   "source": [
    "# import & rename cols\n",
    "tract_data_2019 = pd.read_json('./data/tract_data_2019.json', dtype=False)\n",
    "year_ranges = ['2014_later', '2010_2013', '2000_2009', '1990_1999', '1980_1989', '1970_1979', '1960_1969', '1950_1959', '1940_1949', '1939_earlier']\n",
    "built_ranges = [f'built_{el}' for el in year_ranges]\n",
    "tract_data_2019.columns = ['name', 'median_income', 'num_pub_trans', 'population'] + built_ranges + ['state', 'county', 'tract']\n",
    "\n",
    "# trim out building dates\n",
    "tract_data_2019['tract_id'] = tract_data_2019['state'] + tract_data_2019['county'] + tract_data_2019['tract']\n",
    "tract_data_2019['pub_trans_gt_10pct'] = ((tract_data_2019['num_pub_trans'] / tract_data_2019['population']) >= 0.1).astype(int)\n",
    "\n",
    "tract_data_2019_trim = tract_data_2019.drop(built_ranges + ['num_pub_trans'], axis=1)\n",
    "tract_data_2019_trim"
   ]
  },
  {
   "cell_type": "code",
   "execution_count": null,
   "metadata": {},
   "outputs": [],
   "source": [
    "tract_data_2019_trim['pub_trans_gt_10pct'].value_counts()"
   ]
  },
  {
   "attachments": {},
   "cell_type": "markdown",
   "metadata": {},
   "source": [
    "#### MSA-Level Income Data (2019)"
   ]
  },
  {
   "cell_type": "code",
   "execution_count": null,
   "metadata": {},
   "outputs": [],
   "source": [
    "msa_data = pd.read_json('./data/msa_data.json')\n",
    "msa_data.columns = ['name', 'median_income', 'msa_code']\n",
    "msa_data['msa_code'] = msa_data['msa_code'].astype(str)\n",
    "msa_data"
   ]
  },
  {
   "attachments": {},
   "cell_type": "markdown",
   "metadata": {},
   "source": [
    "#### MSA-Tract Crosswalk"
   ]
  },
  {
   "cell_type": "code",
   "execution_count": null,
   "metadata": {},
   "outputs": [],
   "source": [
    "msa_lookup = pd.read_excel('./data/msa_codes.xls', \n",
    "                           converters={'CBSA Code': str, \n",
    "                                       'CBSA Title': str, \n",
    "                                       'Metropolitan/Micropolitan Statistical Area': str, \n",
    "                                       'FIPS State Code': str,\n",
    "                                       'FIPS County Code': str}\n",
    "                           ).drop(range(1916,1920))\n",
    "\n",
    "msa_lookup"
   ]
  },
  {
   "attachments": {},
   "cell_type": "markdown",
   "metadata": {},
   "source": [
    "#### Conversion for 2000 => 2010"
   ]
  },
  {
   "cell_type": "code",
   "execution_count": null,
   "metadata": {},
   "outputs": [],
   "source": [
    "tract_conversion = pd.read_csv('./data/us2010trf.txt')\n",
    "tract_conversion"
   ]
  },
  {
   "cell_type": "code",
   "execution_count": null,
   "metadata": {},
   "outputs": [],
   "source": [
    "tract_conversion.columns"
   ]
  },
  {
   "cell_type": "code",
   "execution_count": null,
   "metadata": {},
   "outputs": [],
   "source": [
    "tract_conversion = tract_conversion[['GEOID00', 'GEOID10', 'AREALAND10']]\n",
    "tract_conversion['GEOID00'] = tract_conversion['GEOID00'].astype(str)\n",
    "tract_conversion['GEOID10'] = tract_conversion['GEOID10'].astype(str)\n",
    "tract_conversion"
   ]
  },
  {
   "attachments": {},
   "cell_type": "markdown",
   "metadata": {},
   "source": [
    "#### Tract-School District Crosswalk"
   ]
  },
  {
   "cell_type": "code",
   "execution_count": null,
   "metadata": {},
   "outputs": [],
   "source": [
    "school_districts = pd.read_excel('./data/grf19_lea_tract.xlsx')\n",
    "# school_districts.drop(['NAME_LEA19', 'COUNT', 'LANDAREA', 'WATERAREA'], axis=1, inplace=True)\n",
    "school_districts['LEAID'] = school_districts['LEAID'].astype(str)\n",
    "school_districts['TRACT'] = school_districts['TRACT'].astype(str)\n",
    "school_districts"
   ]
  },
  {
   "attachments": {},
   "cell_type": "markdown",
   "metadata": {},
   "source": [
    "## Data Combination"
   ]
  },
  {
   "attachments": {},
   "cell_type": "markdown",
   "metadata": {},
   "source": [
    "#### Trim Tract Level Data to MSAs Only"
   ]
  },
  {
   "cell_type": "code",
   "execution_count": null,
   "metadata": {},
   "outputs": [],
   "source": [
    "only_metros = msa_lookup[msa_lookup['Metropolitan/Micropolitan Statistical Area'] == 'Metropolitan Statistical Area']\n",
    "msa_tracts = pd.merge(left=tract_data_2019_trim, right=only_metros, left_on=['state', 'county'], right_on=['FIPS State Code', 'FIPS County Code'])\n",
    "msa_tracts"
   ]
  },
  {
   "cell_type": "code",
   "execution_count": null,
   "metadata": {},
   "outputs": [],
   "source": [
    "msa_tracts.columns"
   ]
  },
  {
   "cell_type": "code",
   "execution_count": null,
   "metadata": {},
   "outputs": [],
   "source": [
    "msa_tracts.drop(['name', 'CBSA Title', 'Metropolitan/Micropolitan Statistical Area', 'FIPS State Code', 'FIPS County Code'], axis=1, inplace=True)\n",
    "msa_tracts"
   ]
  },
  {
   "attachments": {},
   "cell_type": "markdown",
   "metadata": {},
   "source": [
    "#### Merge MSA-Level Data"
   ]
  },
  {
   "cell_type": "code",
   "execution_count": null,
   "metadata": {},
   "outputs": [],
   "source": [
    "msa_tracts = pd.merge(left=msa_tracts, right=msa_data, left_on='CBSA Code', right_on='msa_code', suffixes=('_tract', '_msa'))\n",
    "msa_tracts['income'] = msa_tracts['median_income_tract'] / msa_tracts['median_income_msa']\n",
    "msa_tracts.drop(['CBSA Code', 'name', 'median_income_tract', 'median_income_msa'], axis=1, inplace=True)\n",
    "msa_tracts"
   ]
  },
  {
   "attachments": {},
   "cell_type": "markdown",
   "metadata": {},
   "source": [
    "#### Convert 2000-Tracts and Merge"
   ]
  },
  {
   "cell_type": "code",
   "execution_count": null,
   "metadata": {},
   "outputs": [],
   "source": [
    "ages_2019 = pd.merge(left=ncdb_data, right=tract_conversion, left_on='tract_id', right_on='GEOID00')\n",
    "ages_2019.drop(['tract_id', 'GEOID00'], axis=1, inplace=True)\n",
    "ages_2019.rename({'AREALAND10': 'land_area', 'GEOID10': 'tract_id_2010'}, inplace=True, axis=1)\n",
    "\n",
    "ages_2019"
   ]
  },
  {
   "cell_type": "code",
   "execution_count": null,
   "metadata": {},
   "outputs": [],
   "source": [
    "msa_tracts = pd.merge(left=msa_tracts, right=ages_2019, left_on='tract_id', right_on='tract_id_2010')\n",
    "msa_tracts.drop(['tract_id'], axis=1, inplace=True)\n",
    "\n",
    "msa_tracts = msa_tracts[(msa_tracts['population'] >= 1) & (msa_tracts['income'] > 0) & (msa_tracts['land_area'] > 0)] # drop weird tracts\n",
    "\n",
    "msa_tracts['pop_density'] = msa_tracts['population'] / msa_tracts['land_area']\n",
    "msa_tracts"
   ]
  },
  {
   "attachments": {},
   "cell_type": "markdown",
   "metadata": {},
   "source": [
    "#### Add School District"
   ]
  },
  {
   "cell_type": "code",
   "execution_count": null,
   "metadata": {},
   "outputs": [],
   "source": [
    "msa_tracts = pd.merge(left=msa_tracts, right=school_districts, left_on='tract_id_2010', right_on='TRACT')\n",
    "msa_tracts.drop(['NAME_LEA19', 'TRACT', 'COUNT', 'LANDAREA', 'WATERAREA'], axis=1, inplace=True)\n",
    "msa_tracts"
   ]
  },
  {
   "attachments": {},
   "cell_type": "markdown",
   "metadata": {},
   "source": [
    "### Calculating Distances"
   ]
  },
  {
   "attachments": {},
   "cell_type": "markdown",
   "metadata": {},
   "source": [
    "#### Finding Central Business District"
   ]
  },
  {
   "cell_type": "code",
   "execution_count": null,
   "metadata": {},
   "outputs": [],
   "source": [
    "msa_tracts.columns"
   ]
  },
  {
   "cell_type": "code",
   "execution_count": null,
   "metadata": {},
   "outputs": [],
   "source": [
    "msa_tracts['msa_code'].value_counts()"
   ]
  },
  {
   "cell_type": "code",
   "execution_count": null,
   "metadata": {},
   "outputs": [],
   "source": [
    "cdb_candidates = msa_tracts[['msa_code', 'tract_id_2010', 'pop_density']]\n",
    "cdbs = cdb_candidates.groupby('msa_code').max()\n",
    "cdbs"
   ]
  },
  {
   "attachments": {},
   "cell_type": "markdown",
   "metadata": {},
   "source": [
    "#### Calculating Distances"
   ]
  },
  {
   "cell_type": "code",
   "execution_count": 2,
   "metadata": {},
   "outputs": [
    {
     "ename": "NameError",
     "evalue": "name 'msa_tracts' is not defined",
     "output_type": "error",
     "traceback": [
      "\u001b[0;31m---------------------------------------------------------------------------\u001b[0m",
      "\u001b[0;31mNameError\u001b[0m                                 Traceback (most recent call last)",
      "Cell \u001b[0;32mIn[2], line 1\u001b[0m\n\u001b[0;32m----> 1\u001b[0m msa_tracts[\u001b[39m'\u001b[39m\u001b[39mdistance\u001b[39m\u001b[39m'\u001b[39m] \u001b[39m=\u001b[39m \u001b[39mNone\u001b[39;00m\n\u001b[1;32m      2\u001b[0m msa_tracts\n",
      "\u001b[0;31mNameError\u001b[0m: name 'msa_tracts' is not defined"
     ]
    }
   ],
   "source": [
    "msa_tracts['distance'] = None\n",
    "msa_tracts"
   ]
  },
  {
   "cell_type": "code",
   "execution_count": null,
   "metadata": {},
   "outputs": [],
   "source": [
    "tract_distances = pd.read_csv('./data/sf12010tractdistance50miles.csv')\n",
    "tract_distances"
   ]
  },
  {
   "cell_type": "code",
   "execution_count": null,
   "metadata": {},
   "outputs": [],
   "source": []
  }
 ],
 "metadata": {
  "kernelspec": {
   "display_name": "econ554",
   "language": "python",
   "name": "python3"
  },
  "language_info": {
   "codemirror_mode": {
    "name": "ipython",
    "version": 3
   },
   "file_extension": ".py",
   "mimetype": "text/x-python",
   "name": "python",
   "nbconvert_exporter": "python",
   "pygments_lexer": "ipython3",
   "version": "3.11.2"
  },
  "orig_nbformat": 4
 },
 "nbformat": 4,
 "nbformat_minor": 2
}
